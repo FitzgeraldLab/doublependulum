{
 "cells": [
  {
   "cell_type": "markdown",
   "id": "57ed39b1-9dcc-4277-8198-518282b75e14",
   "metadata": {},
   "source": [
    "# Derivation of the double pendulum\n",
    "Consider the system, depicted below\n",
    "\n",
    "![Sketch of the double pendulum system](system-sketch.svg)\n",
    "\n",
    "The objective of this notebook is to derive the equations of motion of the system using [Lagrange's equations](https://en.wikipedia.org/wiki/Lagrangian_mechanics).  "
   ]
  },
  {
   "cell_type": "code",
   "execution_count": 1,
   "id": "c61d19bb-4d0f-4caf-ae82-b173a6168073",
   "metadata": {},
   "outputs": [
    {
     "name": "stderr",
     "output_type": "stream",
     "text": [
      "\u001b[32m\u001b[1m  Activating\u001b[22m\u001b[39m project at `C:\\Users\\fitzgeraldt\\Documents\\doublependulum\\derivation`\n"
     ]
    }
   ],
   "source": [
    "using Pkg; Pkg.activate(\".\")\n",
    "using SymPy\n",
    "using LinearAlgebra"
   ]
  },
  {
   "cell_type": "code",
   "execution_count": 2,
   "id": "fc25c322-eb44-4b1b-9b8b-cda8b571ff19",
   "metadata": {},
   "outputs": [],
   "source": [
    "dot(x,y) = sum( x .* y )\n",
    "m1, m2, l1, l2, lp, g, Ig1, Ig2 = symbols(\"m_1, m_2, l_1, l_2, l_p, g, I_G1, I_G2\", real=true, positive=true)\n",
    "ϕ, t = symbols(\"phi, t\", real=true)\n",
    "θ1 = SymFunction(\"theta_1\")(t)\n",
    "θ2 = SymFunction(\"theta_2\")(t)\n",
    "\n",
    "ihat = [1, 0, 0]\n",
    "jhat = [0, 1, 0]\n",
    "khat = [0, 0, 1]\n",
    ";"
   ]
  },
  {
   "cell_type": "markdown",
   "id": "fad745de-f344-49bd-a648-455095790674",
   "metadata": {},
   "source": [
    "## Setup\n",
    "The generalized coordinates are the absolute angles $q = [\\theta_1,~ \\theta_2]$.  The angle $\\phi$ is fixed on the first body, and is the angle relative to the center of mass.\n",
    "\n",
    "### The position vectors\n",
    "All defined in the $\\{\\hat{i}\\hat{j}\\hat{k}\\}$ system"
   ]
  },
  {
   "cell_type": "code",
   "execution_count": 3,
   "id": "d1229bd6-5435-448f-b81a-38742a779a19",
   "metadata": {},
   "outputs": [],
   "source": [
    "r1 = l1*( sin(θ1)*ihat - cos(θ1)*jhat )\n",
    "rp = lp*( sin(θ1+ϕ)*ihat - cos(θ1+ϕ)*jhat )\n",
    "r2 = rp + l2*( sin(θ2)*ihat - cos(θ2)*jhat )\n",
    ";"
   ]
  },
  {
   "cell_type": "markdown",
   "id": "41492527-518f-48b5-8fad-9e899e82a2e1",
   "metadata": {},
   "source": [
    "### The velocities"
   ]
  },
  {
   "cell_type": "code",
   "execution_count": 4,
   "id": "5deadb03-6464-46cc-95f1-3ce2162cd317",
   "metadata": {},
   "outputs": [
    {
     "data": {
      "text/latex": [
       "$\\left[ \\begin{array}{r}l_{1} \\cos{\\left(\\theta_{1}{\\left(t \\right)} \\right)} \\frac{d}{d t} \\theta_{1}{\\left(t \\right)}\\\\l_{1} \\sin{\\left(\\theta_{1}{\\left(t \\right)} \\right)} \\frac{d}{d t} \\theta_{1}{\\left(t \\right)}\\\\0\\end{array} \\right]$\n"
      ],
      "text/plain": [
       "3-element Vector{Sym}:\n",
       " l_1*cos(theta_1(t))*Derivative(theta_1(t), t)\n",
       " l_1*sin(theta_1(t))*Derivative(theta_1(t), t)\n",
       "                                             0"
      ]
     },
     "execution_count": 4,
     "metadata": {},
     "output_type": "execute_result"
    }
   ],
   "source": [
    "v1 = diff.( r1, t)"
   ]
  },
  {
   "cell_type": "code",
   "execution_count": 5,
   "id": "593f3949-be41-42a3-91eb-26d6fdf192d9",
   "metadata": {},
   "outputs": [
    {
     "data": {
      "text/latex": [
       "$\\left[ \\begin{array}{r}l_{2} \\cos{\\left(\\theta_{2}{\\left(t \\right)} \\right)} \\frac{d}{d t} \\theta_{2}{\\left(t \\right)} + l_{p} \\cos{\\left(\\phi + \\theta_{1}{\\left(t \\right)} \\right)} \\frac{d}{d t} \\theta_{1}{\\left(t \\right)}\\\\l_{2} \\sin{\\left(\\theta_{2}{\\left(t \\right)} \\right)} \\frac{d}{d t} \\theta_{2}{\\left(t \\right)} + l_{p} \\sin{\\left(\\phi + \\theta_{1}{\\left(t \\right)} \\right)} \\frac{d}{d t} \\theta_{1}{\\left(t \\right)}\\\\0\\end{array} \\right]$\n"
      ],
      "text/plain": [
       "3-element Vector{Sym}:\n",
       " l_2*cos(theta_2(t))*Derivative(theta_2(t), t) + l_p*cos(phi + theta_1(t))*Derivative(theta_1(t), t)\n",
       " l_2*sin(theta_2(t))*Derivative(theta_2(t), t) + l_p*sin(phi + theta_1(t))*Derivative(theta_1(t), t)\n",
       "                                                                                                   0"
      ]
     },
     "execution_count": 5,
     "metadata": {},
     "output_type": "execute_result"
    }
   ],
   "source": [
    "v2 = diff.( r2, t)"
   ]
  },
  {
   "cell_type": "markdown",
   "id": "e4699361-9643-4fa1-ad37-9403e2c8cb77",
   "metadata": {},
   "source": [
    "### The kinetic energy $T$"
   ]
  },
  {
   "cell_type": "code",
   "execution_count": 6,
   "id": "9e0bcdae-7c2d-4b93-9d46-b1629e779f58",
   "metadata": {},
   "outputs": [
    {
     "data": {
      "text/latex": [
       "$\\frac{\\left(I_{G1} + l_{1}^{2} m_{1}\\right) \\left(\\frac{d}{d t} \\theta_{1}{\\left(t \\right)}\\right)^{2}}{2}$"
      ],
      "text/plain": [
       "                                  2\n",
       "/          2    \\ /d             \\ \n",
       "\\I_G1 + l_1 *m_1/*|--(theta_1(t))| \n",
       "                  \\dt            / \n",
       "-----------------------------------\n",
       "                 2                 "
      ]
     },
     "execution_count": 6,
     "metadata": {},
     "output_type": "execute_result"
    }
   ],
   "source": [
    "T1 = 1//2*m1*dot( v1, v1 ) + 1//2*Ig1*diff(θ1,t)^2 |> simplify"
   ]
  },
  {
   "cell_type": "code",
   "execution_count": 7,
   "id": "96a6cb21-c274-4fdc-98af-89c27515f76f",
   "metadata": {},
   "outputs": [
    {
     "data": {
      "text/latex": [
       "$\\frac{I_{G2} \\left(\\frac{d}{d t} \\theta_{2}{\\left(t \\right)}\\right)^{2}}{2} + \\frac{m_{2} \\left(l_{2}^{2} \\left(\\frac{d}{d t} \\theta_{2}{\\left(t \\right)}\\right)^{2} + 2 l_{2} l_{p} \\cos{\\left(\\phi + \\theta_{1}{\\left(t \\right)} - \\theta_{2}{\\left(t \\right)} \\right)} \\frac{d}{d t} \\theta_{1}{\\left(t \\right)} \\frac{d}{d t} \\theta_{2}{\\left(t \\right)} + l_{p}^{2} \\left(\\frac{d}{d t} \\theta_{1}{\\left(t \\right)}\\right)^{2}\\right)}{2}$"
      ],
      "text/plain": [
       "                     2       /                     2                          \n",
       "     /d             \\        |   2 /d             \\                           \n",
       "I_G2*|--(theta_2(t))|    m_2*|l_2 *|--(theta_2(t))|  + 2*l_2*l_p*cos(phi + the\n",
       "     \\dt            /        \\     \\dt            /                           \n",
       "---------------------- + -----------------------------------------------------\n",
       "          2                                                                   \n",
       "\n",
       "                                                                           2\\\n",
       "                      d              d                   2 /d             \\ |\n",
       "ta_1(t) - theta_2(t))*--(theta_1(t))*--(theta_2(t)) + l_p *|--(theta_1(t))| |\n",
       "                      dt             dt                    \\dt            / /\n",
       "-----------------------------------------------------------------------------\n",
       "           2                                                                 "
      ]
     },
     "execution_count": 7,
     "metadata": {},
     "output_type": "execute_result"
    }
   ],
   "source": [
    "T2 = 1//2*m2*dot( v2, v2 ) + 1//2*Ig2*diff(θ2,t)^2 |> simplify"
   ]
  },
  {
   "cell_type": "code",
   "execution_count": 8,
   "id": "91f7a178-e8ee-4716-b1a5-b520fb9c3096",
   "metadata": {},
   "outputs": [
    {
     "data": {
      "text/latex": [
       "$\\frac{I_{G2} \\left(\\frac{d}{d t} \\theta_{2}{\\left(t \\right)}\\right)^{2}}{2} + \\frac{m_{2} \\left(l_{2}^{2} \\left(\\frac{d}{d t} \\theta_{2}{\\left(t \\right)}\\right)^{2} + 2 l_{2} l_{p} \\cos{\\left(\\phi + \\theta_{1}{\\left(t \\right)} - \\theta_{2}{\\left(t \\right)} \\right)} \\frac{d}{d t} \\theta_{1}{\\left(t \\right)} \\frac{d}{d t} \\theta_{2}{\\left(t \\right)} + l_{p}^{2} \\left(\\frac{d}{d t} \\theta_{1}{\\left(t \\right)}\\right)^{2}\\right)}{2} + \\frac{\\left(I_{G1} + l_{1}^{2} m_{1}\\right) \\left(\\frac{d}{d t} \\theta_{1}{\\left(t \\right)}\\right)^{2}}{2}$"
      ],
      "text/plain": [
       "                     2       /                     2                          \n",
       "     /d             \\        |   2 /d             \\                           \n",
       "I_G2*|--(theta_2(t))|    m_2*|l_2 *|--(theta_2(t))|  + 2*l_2*l_p*cos(phi + the\n",
       "     \\dt            /        \\     \\dt            /                           \n",
       "---------------------- + -----------------------------------------------------\n",
       "          2                                                                   \n",
       "\n",
       "                                                                           2\\ \n",
       "                      d              d                   2 /d             \\ | \n",
       "ta_1(t) - theta_2(t))*--(theta_1(t))*--(theta_2(t)) + l_p *|--(theta_1(t))| | \n",
       "                      dt             dt                    \\dt            / / \n",
       "----------------------------------------------------------------------------- \n",
       "           2                                                                  \n",
       "\n",
       "                                    2\n",
       "  /          2    \\ /d             \\ \n",
       "  \\I_G1 + l_1 *m_1/*|--(theta_1(t))| \n",
       "                    \\dt            / \n",
       "+ -----------------------------------\n",
       "                   2                 "
      ]
     },
     "execution_count": 8,
     "metadata": {},
     "output_type": "execute_result"
    }
   ],
   "source": [
    "T = T1 + T2 "
   ]
  },
  {
   "cell_type": "markdown",
   "id": "0aaef428-5114-43c6-a604-9ba5a5f8388b",
   "metadata": {},
   "source": [
    "### The potential energy $V$"
   ]
  },
  {
   "cell_type": "code",
   "execution_count": 9,
   "id": "275345e4-c269-48b5-b8aa-0e849c42d893",
   "metadata": {},
   "outputs": [
    {
     "data": {
      "text/latex": [
       "$- g l_{1} m_{1} \\cos{\\left(\\theta_{1}{\\left(t \\right)} \\right)}$"
      ],
      "text/plain": [
       "-g*l_1*m_1*cos(theta_1(t))"
      ]
     },
     "execution_count": 9,
     "metadata": {},
     "output_type": "execute_result"
    }
   ],
   "source": [
    "V1 = m1*g*dot(r1,jhat)"
   ]
  },
  {
   "cell_type": "code",
   "execution_count": 10,
   "id": "6e30fc58-96a2-42d7-8188-5d6ac05c23ab",
   "metadata": {},
   "outputs": [
    {
     "data": {
      "text/latex": [
       "$g m_{2} \\left(- l_{2} \\cos{\\left(\\theta_{2}{\\left(t \\right)} \\right)} - l_{p} \\cos{\\left(\\phi + \\theta_{1}{\\left(t \\right)} \\right)}\\right)$"
      ],
      "text/plain": [
       "g*m_2*(-l_2*cos(theta_2(t)) - l_p*cos(phi + theta_1(t)))"
      ]
     },
     "execution_count": 10,
     "metadata": {},
     "output_type": "execute_result"
    }
   ],
   "source": [
    "V2 = m2*g*dot(r2, jhat)"
   ]
  },
  {
   "cell_type": "code",
   "execution_count": 11,
   "id": "7012a123-e941-48f9-b7f8-fa1b372e78de",
   "metadata": {},
   "outputs": [
    {
     "data": {
      "text/latex": [
       "$- g l_{1} m_{1} \\cos{\\left(\\theta_{1}{\\left(t \\right)} \\right)} + g m_{2} \\left(- l_{2} \\cos{\\left(\\theta_{2}{\\left(t \\right)} \\right)} - l_{p} \\cos{\\left(\\phi + \\theta_{1}{\\left(t \\right)} \\right)}\\right)$"
      ],
      "text/plain": [
       "-g*l_1*m_1*cos(theta_1(t)) + g*m_2*(-l_2*cos(theta_2(t)) - l_p*cos(phi + theta\n",
       "_1(t)))"
      ]
     },
     "execution_count": 11,
     "metadata": {},
     "output_type": "execute_result"
    }
   ],
   "source": [
    "V = V1 + V2 "
   ]
  },
  {
   "cell_type": "markdown",
   "id": "f5e4ba6a-486f-4141-8e96-54800a87f24b",
   "metadata": {},
   "source": [
    "## Lagrange's equations\n",
    "\n",
    "First, we build the Lagrangian $L = T-V$, and then use it in\n",
    "$$ \\frac{d}{dt}\\left( \\frac{\\partial L}{\\partial \\dot{q}_k} \\right) - \\frac{\\partial L}{\\partial q_k} = 0, \\quad k = 1,\\,2$$\n",
    "\n"
   ]
  },
  {
   "cell_type": "code",
   "execution_count": 12,
   "id": "7d6e4581-2376-4556-af86-bb2f8e4a411d",
   "metadata": {},
   "outputs": [
    {
     "data": {
      "text/latex": [
       "$\\frac{I_{G2} \\left(\\frac{d}{d t} \\theta_{2}{\\left(t \\right)}\\right)^{2}}{2} + g l_{1} m_{1} \\cos{\\left(\\theta_{1}{\\left(t \\right)} \\right)} + g m_{2} \\left(l_{2} \\cos{\\left(\\theta_{2}{\\left(t \\right)} \\right)} + l_{p} \\cos{\\left(\\phi + \\theta_{1}{\\left(t \\right)} \\right)}\\right) + \\frac{m_{2} \\left(l_{2}^{2} \\left(\\frac{d}{d t} \\theta_{2}{\\left(t \\right)}\\right)^{2} + 2 l_{2} l_{p} \\cos{\\left(\\phi + \\theta_{1}{\\left(t \\right)} - \\theta_{2}{\\left(t \\right)} \\right)} \\frac{d}{d t} \\theta_{1}{\\left(t \\right)} \\frac{d}{d t} \\theta_{2}{\\left(t \\right)} + l_{p}^{2} \\left(\\frac{d}{d t} \\theta_{1}{\\left(t \\right)}\\right)^{2}\\right)}{2} + \\frac{\\left(I_{G1} + l_{1}^{2} m_{1}\\right) \\left(\\frac{d}{d t} \\theta_{1}{\\left(t \\right)}\\right)^{2}}{2}$"
      ],
      "text/plain": [
       "                     2                                                        \n",
       "     /d             \\                                                         \n",
       "I_G2*|--(theta_2(t))|                                                         \n",
       "     \\dt            /                                                         \n",
       "---------------------- + g*l_1*m_1*cos(theta_1(t)) + g*m_2*(l_2*cos(theta_2(t)\n",
       "          2                                                                   \n",
       "\n",
       "                                     /                     2                  \n",
       "                                     |   2 /d             \\                   \n",
       "                                 m_2*|l_2 *|--(theta_2(t))|  + 2*l_2*l_p*cos(p\n",
       "                                     \\     \\dt            /                   \n",
       ") + l_p*cos(phi + theta_1(t))) + ---------------------------------------------\n",
       "                                                                              \n",
       "\n",
       "                                                                              \n",
       "                              d              d                   2 /d         \n",
       "hi + theta_1(t) - theta_2(t))*--(theta_1(t))*--(theta_2(t)) + l_p *|--(theta_1\n",
       "                              dt             dt                    \\dt        \n",
       "------------------------------------------------------------------------------\n",
       "                   2                                                          \n",
       "\n",
       "     2\\                                     2\n",
       "    \\ |   /          2    \\ /d             \\ \n",
       "(t))| |   \\I_G1 + l_1 *m_1/*|--(theta_1(t))| \n",
       "    / /                     \\dt            / \n",
       "------- + -----------------------------------\n",
       "                           2                 "
      ]
     },
     "execution_count": 12,
     "metadata": {},
     "output_type": "execute_result"
    }
   ],
   "source": [
    "L = T-V |> simplify"
   ]
  },
  {
   "cell_type": "code",
   "execution_count": 13,
   "id": "59a9e9c0-5075-4e0f-bc8d-f803ee8a1e5d",
   "metadata": {},
   "outputs": [
    {
     "data": {
      "text/latex": [
       "$\\left[ \\begin{array}{r}I_{G1} \\frac{d^{2}}{d t^{2}} \\theta_{1}{\\left(t \\right)} + g l_{1} m_{1} \\sin{\\left(\\theta_{1}{\\left(t \\right)} \\right)} + g l_{p} m_{2} \\sin{\\left(\\phi + \\theta_{1}{\\left(t \\right)} \\right)} + l_{1}^{2} m_{1} \\frac{d^{2}}{d t^{2}} \\theta_{1}{\\left(t \\right)} + l_{2} l_{p} m_{2} \\sin{\\left(\\phi + \\theta_{1}{\\left(t \\right)} - \\theta_{2}{\\left(t \\right)} \\right)} \\left(\\frac{d}{d t} \\theta_{2}{\\left(t \\right)}\\right)^{2} + l_{2} l_{p} m_{2} \\cos{\\left(\\phi + \\theta_{1}{\\left(t \\right)} - \\theta_{2}{\\left(t \\right)} \\right)} \\frac{d^{2}}{d t^{2}} \\theta_{2}{\\left(t \\right)} + l_{p}^{2} m_{2} \\frac{d^{2}}{d t^{2}} \\theta_{1}{\\left(t \\right)}\\\\I_{G2} \\frac{d^{2}}{d t^{2}} \\theta_{2}{\\left(t \\right)} + g l_{2} m_{2} \\sin{\\left(\\theta_{2}{\\left(t \\right)} \\right)} + l_{2}^{2} m_{2} \\frac{d^{2}}{d t^{2}} \\theta_{2}{\\left(t \\right)} - l_{2} l_{p} m_{2} \\sin{\\left(\\phi + \\theta_{1}{\\left(t \\right)} - \\theta_{2}{\\left(t \\right)} \\right)} \\left(\\frac{d}{d t} \\theta_{1}{\\left(t \\right)}\\right)^{2} + l_{2} l_{p} m_{2} \\cos{\\left(\\phi + \\theta_{1}{\\left(t \\right)} - \\theta_{2}{\\left(t \\right)} \\right)} \\frac{d^{2}}{d t^{2}} \\theta_{1}{\\left(t \\right)}\\end{array} \\right]$\n"
      ],
      "text/plain": [
       "2-element Vector{Sym}:\n",
       " I_G1*Derivative(theta_1(t), (t, 2)) + g*l_1*m_1*sin(theta_1(t)) + g*l_p*m_2*sin(phi + theta_1(t)) + l_1^2*m_1*Derivative(theta_1(t), (t, 2)) + l_2*l_p*m_2*sin(phi + theta_1(t) - theta_2(t))*Derivative(theta_2(t), t)^2 + l_2*l_p*m_2*cos(phi + theta_1(t) - theta_2(t))*Derivative(theta_2(t), (t, 2)) + l_p^2*m_2*Derivative(theta_1(t), (t, 2))\n",
       "                                                                              I_G2*Derivative(theta_2(t), (t, 2)) + g*l_2*m_2*sin(theta_2(t)) + l_2^2*m_2*Derivative(theta_2(t), (t, 2)) - l_2*l_p*m_2*sin(phi + theta_1(t) - theta_2(t))*Derivative(theta_1(t), t)^2 + l_2*l_p*m_2*cos(phi + theta_1(t) - theta_2(t))*Derivative(theta_1(t), (t, 2))"
      ]
     },
     "execution_count": 13,
     "metadata": {},
     "output_type": "execute_result"
    }
   ],
   "source": [
    "lag = [ diff(L, diff(q,t), t ) - diff( L, q ) |> simplify for q in [θ1, θ2] ]"
   ]
  },
  {
   "cell_type": "markdown",
   "id": "eec9ef21-1e96-47b6-87f7-84bd17aa8a15",
   "metadata": {},
   "source": [
    "## First order form\n",
    "Let's work to rearrange this pair of coupled 2nd order equations to state-space (first order form) so we can use standard initial value ordinary differential equation solvers.\n",
    "Let's pick the states\n",
    "$$ z = [ \\theta_1,\\, \\theta_2,\\, \\dot{\\theta}_1,\\, \\dot{\\theta}_2]^T $$\n"
   ]
  },
  {
   "cell_type": "code",
   "execution_count": 14,
   "id": "b464ee29-cf6c-45c4-bbfb-9eda6f1574f2",
   "metadata": {},
   "outputs": [
    {
     "name": "stderr",
     "output_type": "stream",
     "text": [
      "┌ Warning: `vendor()` is deprecated, use `BLAS.get_config()` and inspect the output instead\n",
      "│   caller = npyinitialize() at numpy.jl:67\n",
      "└ @ PyCall C:\\Users\\fitzgeraldt\\.julia\\packages\\PyCall\\L0fLP\\src\\numpy.jl:67\n"
     ]
    },
    {
     "data": {
      "text/plain": [
       "Dict{Any, Any} with 2 entries:\n",
       "  Derivative(theta_2(t), (t, 2)) => -I_G1*g*l_2*m_2*sin(theta_2(t))/(I_G1*I_G2 …\n",
       "  Derivative(theta_1(t), (t, 2)) => -I_G2*g*l_1*m_1*sin(theta_1(t))/(I_G1*I_G2 …"
      ]
     },
     "execution_count": 14,
     "metadata": {},
     "output_type": "execute_result"
    }
   ],
   "source": [
    "sol = solve( lag, [diff(θ1,t,t), diff(θ2, t, t)])"
   ]
  },
  {
   "cell_type": "code",
   "execution_count": 15,
   "id": "b5c9759d-c229-4543-bcdb-0003706f5aa1",
   "metadata": {},
   "outputs": [
    {
     "data": {
      "text/latex": [
       "$\\left[ \\begin{array}{r}\\frac{d}{d t} \\theta_{1}{\\left(t \\right)}\\\\\\frac{d}{d t} \\theta_{2}{\\left(t \\right)}\\\\\\frac{d^{2}}{d t^{2}} \\theta_{1}{\\left(t \\right)}\\\\\\frac{d^{2}}{d t^{2}} \\theta_{2}{\\left(t \\right)}\\end{array} \\right]$\n"
      ],
      "text/plain": [
       "4-element Vector{Sym}:\n",
       "      Derivative(theta_1(t), t)\n",
       "      Derivative(theta_2(t), t)\n",
       " Derivative(theta_1(t), (t, 2))\n",
       " Derivative(theta_2(t), (t, 2))"
      ]
     },
     "execution_count": 15,
     "metadata": {},
     "output_type": "execute_result"
    }
   ],
   "source": [
    "z1, z2, z3, z4 = symbols(\"z1, z2, z3, z4\", real=true)\n",
    "rule1 = Dict( diff(θ1,t) => z3, diff(θ2, t) => z4 )\n",
    "rule2 = Dict( θ1 => z1, θ2 => z2 )\n",
    "\n",
    "t1 = diff.( [θ1, θ2, diff(θ1,t), diff(θ2,t) ] )"
   ]
  },
  {
   "cell_type": "code",
   "execution_count": 16,
   "id": "0c0178c7-4e60-4451-883e-d4f63ee5e47c",
   "metadata": {},
   "outputs": [],
   "source": [
    "# Ugly and takes a long time to perform the simplify\n",
    "#F = [ subs(eq,sol) |> subs(rule1) |> subs(rule2) |> simplify for eq in t1 ]"
   ]
  },
  {
   "cell_type": "markdown",
   "id": "11d6b2d3-e8e8-4da6-969d-f81023159b0f",
   "metadata": {},
   "source": [
    "In order to avoid the nasty `simplify` in the above equations, let's pull out the mass matrix and then work with the resulting equations.  So let's reorganize the equations to look like\n",
    "\n",
    "$$ M(q,\\dot{q})\\left[\\begin{array}{c} \\ddot{\\theta}_1 \\\\ \\ddot{\\theta}_2 \\end{array} \\right] + h(q,\\dot{q}) = 0 $$"
   ]
  },
  {
   "cell_type": "code",
   "execution_count": 17,
   "id": "2bc989aa-ec61-4a55-bb4f-d6a1ccb0325e",
   "metadata": {},
   "outputs": [
    {
     "data": {
      "text/latex": [
       "$\\left[ \\begin{array}{rr}I_{G1} + l_{1}^{2} m_{1} + l_{p}^{2} m_{2}&l_{2} l_{p} m_{2} \\cos{\\left(\\phi + \\theta_{1}{\\left(t \\right)} - \\theta_{2}{\\left(t \\right)} \\right)}\\\\l_{2} l_{p} m_{2} \\cos{\\left(\\phi + \\theta_{1}{\\left(t \\right)} - \\theta_{2}{\\left(t \\right)} \\right)}&I_{G2} + l_{2}^{2} m_{2}\\end{array}\\right]$\n"
      ],
      "text/plain": [
       "2×2 Matrix{Sym}:\n",
       "                   I_G1 + l_1^2*m_1 + l_p^2*m_2  …  l_2*l_p*m_2*cos(phi + theta_1(t) - theta_2(t))\n",
       " l_2*l_p*m_2*cos(phi + theta_1(t) - theta_2(t))                                   I_G2 + l_2^2*m_2"
      ]
     },
     "execution_count": 17,
     "metadata": {},
     "output_type": "execute_result"
    }
   ],
   "source": [
    "M = [ diff( eq, diff(θ,t,t)) for eq in lag, θ in [θ1, θ2] ]"
   ]
  },
  {
   "cell_type": "code",
   "execution_count": 18,
   "id": "272bd1e9-3166-4b12-8fda-389efb419d1e",
   "metadata": {},
   "outputs": [
    {
     "data": {
      "text/latex": [
       "$\\left[ \\begin{array}{r}g l_{1} m_{1} \\sin{\\left(\\theta_{1}{\\left(t \\right)} \\right)} + g l_{p} m_{2} \\sin{\\left(\\phi + \\theta_{1}{\\left(t \\right)} \\right)} + l_{2} l_{p} m_{2} \\sin{\\left(\\phi + \\theta_{1}{\\left(t \\right)} - \\theta_{2}{\\left(t \\right)} \\right)} \\left(\\frac{d}{d t} \\theta_{2}{\\left(t \\right)}\\right)^{2}\\\\l_{2} m_{2} \\left(g \\sin{\\left(\\theta_{2}{\\left(t \\right)} \\right)} - l_{p} \\sin{\\left(\\phi + \\theta_{1}{\\left(t \\right)} - \\theta_{2}{\\left(t \\right)} \\right)} \\left(\\frac{d}{d t} \\theta_{1}{\\left(t \\right)}\\right)^{2}\\right)\\end{array} \\right]$\n"
      ],
      "text/plain": [
       "2-element Vector{Sym}:\n",
       " g*l_1*m_1*sin(theta_1(t)) + g*l_p*m_2*sin(phi + theta_1(t)) + l_2*l_p*m_2*sin(phi + theta_1(t) - theta_2(t))*Derivative(theta_2(t), t)^2\n",
       "                                         l_2*m_2*(g*sin(theta_2(t)) - l_p*sin(phi + theta_1(t) - theta_2(t))*Derivative(theta_1(t), t)^2)"
      ]
     },
     "execution_count": 18,
     "metadata": {},
     "output_type": "execute_result"
    }
   ],
   "source": [
    "h = simplify.( lag - M*diff.( [θ1,θ2], t, t) )"
   ]
  },
  {
   "cell_type": "markdown",
   "id": "3a41701a-216c-4c64-aecd-7c3f1a868767",
   "metadata": {},
   "source": [
    "Now let's transform the coordinates to the states $z$"
   ]
  },
  {
   "cell_type": "code",
   "execution_count": 19,
   "id": "1bce8084-a86f-4d5a-a532-fd4f7062c93c",
   "metadata": {},
   "outputs": [
    {
     "data": {
      "text/latex": [
       "$\\left[ \\begin{array}{rr}I_{G1} + l_{1}^{2} m_{1} + l_{p}^{2} m_{2}&l_{2} l_{p} m_{2} \\cos{\\left(\\phi + z_{1} - z_{2} \\right)}\\\\l_{2} l_{p} m_{2} \\cos{\\left(\\phi + z_{1} - z_{2} \\right)}&I_{G2} + l_{2}^{2} m_{2}\\end{array}\\right]$\n"
      ],
      "text/plain": [
       "2×2 Matrix{Sym}:\n",
       "   I_G1 + l_1^2*m_1 + l_p^2*m_2  l_2*l_p*m_2*cos(phi + z1 - z2)\n",
       " l_2*l_p*m_2*cos(phi + z1 - z2)                I_G2 + l_2^2*m_2"
      ]
     },
     "execution_count": 19,
     "metadata": {},
     "output_type": "execute_result"
    }
   ],
   "source": [
    "Mz = [ m |> subs(rule1) |> subs(rule2) for m in M]"
   ]
  },
  {
   "cell_type": "code",
   "execution_count": 20,
   "id": "ef2dc4a1-fb73-486b-93f4-cdeb832508da",
   "metadata": {},
   "outputs": [
    {
     "data": {
      "text/latex": [
       "$\\left[ \\begin{array}{r}g l_{1} m_{1} \\sin{\\left(z_{1} \\right)} + g l_{p} m_{2} \\sin{\\left(\\phi + z_{1} \\right)} + l_{2} l_{p} m_{2} z_{4}^{2} \\sin{\\left(\\phi + z_{1} - z_{2} \\right)}\\\\l_{2} m_{2} \\left(g \\sin{\\left(z_{2} \\right)} - l_{p} z_{3}^{2} \\sin{\\left(\\phi + z_{1} - z_{2} \\right)}\\right)\\end{array} \\right]$\n"
      ],
      "text/plain": [
       "2-element Vector{Sym}:\n",
       " g*l_1*m_1*sin(z1) + g*l_p*m_2*sin(phi + z1) + l_2*l_p*m_2*z4^2*sin(phi + z1 - z2)\n",
       "                                 l_2*m_2*(g*sin(z2) - l_p*z3^2*sin(phi + z1 - z2))"
      ]
     },
     "execution_count": 20,
     "metadata": {},
     "output_type": "execute_result"
    }
   ],
   "source": [
    "hz = [ eq |> subs(rule1) |> subs(rule2) for eq in h ]"
   ]
  },
  {
   "cell_type": "code",
   "execution_count": 21,
   "id": "0ad7250c-83b5-49fb-9882-7a83fdaaa25d",
   "metadata": {},
   "outputs": [
    {
     "name": "stdout",
     "output_type": "stream",
     "text": [
      "[I_G1 + l_1.^2.*m_1 + l_p.^2.*m_2 l_2.*l_p.*m_2.*cos(phi + z1 - z2); l_2.*l_p.*m_2.*cos(phi + z1 - z2) I_G2 + l_2.^2.*m_2]\n"
     ]
    }
   ],
   "source": [
    "sympy.octave_code( Mz ) |> println"
   ]
  },
  {
   "cell_type": "code",
   "execution_count": 22,
   "id": "19444934-8764-430d-95d2-ecf600359310",
   "metadata": {},
   "outputs": [
    {
     "name": "stdout",
     "output_type": "stream",
     "text": [
      "[g.*l_1.*m_1.*sin(z1) + g.*l_p.*m_2.*sin(phi + z1) + l_2.*l_p.*m_2.*z4.^2.*sin(phi + z1 - z2); l_2.*m_2.*(g.*sin(z2) - l_p.*z3.^2.*sin(phi + z1 - z2))]\n"
     ]
    }
   ],
   "source": [
    "sympy.octave_code( hz ) |> println"
   ]
  },
  {
   "cell_type": "code",
   "execution_count": null,
   "id": "9ab44ac0-0ce3-49a4-9f75-44592ce51e4c",
   "metadata": {},
   "outputs": [],
   "source": []
  }
 ],
 "metadata": {
  "kernelspec": {
   "display_name": "Julia 1.7.1",
   "language": "julia",
   "name": "julia-1.7"
  },
  "language_info": {
   "file_extension": ".jl",
   "mimetype": "application/julia",
   "name": "julia",
   "version": "1.7.1"
  }
 },
 "nbformat": 4,
 "nbformat_minor": 5
}

{
 "cells": [
  {
   "cell_type": "markdown",
   "id": "57ed39b1-9dcc-4277-8198-518282b75e14",
   "metadata": {},
   "source": [
    "# Derivation of the double pendulum\n",
    "Consider the system, depicted below\n",
    "\n",
    "![Sketch of the double pendulum system](system-sketch.svg)\n",
    "\n",
    "The objective of this notebook is to derive the equations of motion of the system using [Lagrange's equations](https://en.wikipedia.org/wiki/Lagrangian_mechanics).  "
   ]
  },
  {
   "cell_type": "code",
   "execution_count": 8,
   "id": "c61d19bb-4d0f-4caf-ae82-b173a6168073",
   "metadata": {},
   "outputs": [
    {
     "name": "stderr",
     "output_type": "stream",
     "text": [
      "\u001b[32m\u001b[1m  Activating\u001b[22m\u001b[39m project at `C:\\Users\\fitzgeraldt\\Documents\\doublependulum\\derivation`\n"
     ]
    }
   ],
   "source": [
    "using Pkg; Pkg.activate(\".\")\n",
    "using SymPy\n",
    "using LinearAlgebra"
   ]
  },
  {
   "cell_type": "code",
   "execution_count": 15,
   "id": "fc25c322-eb44-4b1b-9b8b-cda8b571ff19",
   "metadata": {},
   "outputs": [],
   "source": [
    "dot(x,y) = sum( x .* y )\n",
    "m1, m2, l1, l2, lp, g, Ig1, Ig2 = symbols(\"m_1, m_2, l_1, l_2, l_p, g, I_G1, I_G1\", real=true, positive=true)\n",
    "ϕ, t = symbols(\"phi, t\", real=true)\n",
    "θ1 = SymFunction(\"theta_1\")(t)\n",
    "θ2 = SymFunction(\"theta_2\")(t)\n",
    "\n",
    "ihat = [1, 0, 0]\n",
    "jhat = [0, 1, 0]\n",
    "khat = [0, 0, 1]\n",
    ";"
   ]
  },
  {
   "cell_type": "markdown",
   "id": "fad745de-f344-49bd-a648-455095790674",
   "metadata": {},
   "source": [
    "## Setup\n",
    "The generalized coordinates are the absolute angles $q = [\\theta_1,~ \\theta_2]$.  The angle $\\phi$ is fixed on the first body, and is the angle relative to the center of mass.\n",
    "\n",
    "### The position vectors\n",
    "All defined in the $\\{\\hat{i}\\hat{j}\\hat{k}\\}$ system"
   ]
  },
  {
   "cell_type": "code",
   "execution_count": 18,
   "id": "d1229bd6-5435-448f-b81a-38742a779a19",
   "metadata": {},
   "outputs": [],
   "source": [
    "r1 = l1*( sin(θ1)*ihat - cos(θ1)*jhat )\n",
    "rp = lp*( sin(θ1+ϕ)*ihat - cos(θ1+ϕ)*jhat )\n",
    "r2 = rp + l2*( sin(θ2)*ihat - cos(θ2)*jhat )\n",
    ";"
   ]
  },
  {
   "cell_type": "markdown",
   "id": "41492527-518f-48b5-8fad-9e899e82a2e1",
   "metadata": {},
   "source": [
    "### The velocities"
   ]
  },
  {
   "cell_type": "code",
   "execution_count": 21,
   "id": "5deadb03-6464-46cc-95f1-3ce2162cd317",
   "metadata": {},
   "outputs": [
    {
     "data": {
      "text/latex": [
       "$\\left[ \\begin{array}{r}l_{1} \\cos{\\left(\\theta_{1}{\\left(t \\right)} \\right)} \\frac{d}{d t} \\theta_{1}{\\left(t \\right)}\\\\l_{1} \\sin{\\left(\\theta_{1}{\\left(t \\right)} \\right)} \\frac{d}{d t} \\theta_{1}{\\left(t \\right)}\\\\0\\end{array} \\right]$\n"
      ],
      "text/plain": [
       "3-element Vector{Sym}:\n",
       " l_1*cos(theta_1(t))*Derivative(theta_1(t), t)\n",
       " l_1*sin(theta_1(t))*Derivative(theta_1(t), t)\n",
       "                                             0"
      ]
     },
     "execution_count": 21,
     "metadata": {},
     "output_type": "execute_result"
    }
   ],
   "source": [
    "v1 = diff.( r1, t)"
   ]
  },
  {
   "cell_type": "code",
   "execution_count": 22,
   "id": "593f3949-be41-42a3-91eb-26d6fdf192d9",
   "metadata": {},
   "outputs": [
    {
     "data": {
      "text/latex": [
       "$\\left[ \\begin{array}{r}l_{2} \\cos{\\left(\\theta_{2}{\\left(t \\right)} \\right)} \\frac{d}{d t} \\theta_{2}{\\left(t \\right)} + l_{p} \\cos{\\left(\\phi + \\theta_{1}{\\left(t \\right)} \\right)} \\frac{d}{d t} \\theta_{1}{\\left(t \\right)}\\\\l_{2} \\sin{\\left(\\theta_{2}{\\left(t \\right)} \\right)} \\frac{d}{d t} \\theta_{2}{\\left(t \\right)} + l_{p} \\sin{\\left(\\phi + \\theta_{1}{\\left(t \\right)} \\right)} \\frac{d}{d t} \\theta_{1}{\\left(t \\right)}\\\\0\\end{array} \\right]$\n"
      ],
      "text/plain": [
       "3-element Vector{Sym}:\n",
       " l_2*cos(theta_2(t))*Derivative(theta_2(t), t) + l_p*cos(phi + theta_1(t))*Derivative(theta_1(t), t)\n",
       " l_2*sin(theta_2(t))*Derivative(theta_2(t), t) + l_p*sin(phi + theta_1(t))*Derivative(theta_1(t), t)\n",
       "                                                                                                   0"
      ]
     },
     "execution_count": 22,
     "metadata": {},
     "output_type": "execute_result"
    }
   ],
   "source": [
    "v2 = diff.( r2, t)"
   ]
  },
  {
   "cell_type": "markdown",
   "id": "e4699361-9643-4fa1-ad37-9403e2c8cb77",
   "metadata": {},
   "source": [
    "### The kinetic energy $T$"
   ]
  },
  {
   "cell_type": "code",
   "execution_count": 24,
   "id": "9e0bcdae-7c2d-4b93-9d46-b1629e779f58",
   "metadata": {},
   "outputs": [
    {
     "data": {
      "text/latex": [
       "$\\frac{\\left(I_{G1} + l_{1}^{2} m_{1}\\right) \\left(\\frac{d}{d t} \\theta_{1}{\\left(t \\right)}\\right)^{2}}{2}$"
      ],
      "text/plain": [
       "                                  2\n",
       "/          2    \\ /d             \\ \n",
       "\\I_G1 + l_1 *m_1/*|--(theta_1(t))| \n",
       "                  \\dt            / \n",
       "-----------------------------------\n",
       "                 2                 "
      ]
     },
     "execution_count": 24,
     "metadata": {},
     "output_type": "execute_result"
    }
   ],
   "source": [
    "T1 = 1//2*m1*dot( v1, v1 ) + 1//2*Ig1*diff(θ1,t)^2 |> simplify"
   ]
  },
  {
   "cell_type": "code",
   "execution_count": 25,
   "id": "96a6cb21-c274-4fdc-98af-89c27515f76f",
   "metadata": {},
   "outputs": [
    {
     "data": {
      "text/latex": [
       "$\\frac{I_{G1} \\left(\\frac{d}{d t} \\theta_{2}{\\left(t \\right)}\\right)^{2}}{2} + \\frac{m_{2} \\left(l_{2}^{2} \\left(\\frac{d}{d t} \\theta_{2}{\\left(t \\right)}\\right)^{2} + 2 l_{2} l_{p} \\cos{\\left(\\phi + \\theta_{1}{\\left(t \\right)} - \\theta_{2}{\\left(t \\right)} \\right)} \\frac{d}{d t} \\theta_{1}{\\left(t \\right)} \\frac{d}{d t} \\theta_{2}{\\left(t \\right)} + l_{p}^{2} \\left(\\frac{d}{d t} \\theta_{1}{\\left(t \\right)}\\right)^{2}\\right)}{2}$"
      ],
      "text/plain": [
       "                     2       /                     2                          \n",
       "     /d             \\        |   2 /d             \\                           \n",
       "I_G1*|--(theta_2(t))|    m_2*|l_2 *|--(theta_2(t))|  + 2*l_2*l_p*cos(phi + the\n",
       "     \\dt            /        \\     \\dt            /                           \n",
       "---------------------- + -----------------------------------------------------\n",
       "          2                                                                   \n",
       "\n",
       "                                                                           2\\\n",
       "                      d              d                   2 /d             \\ |\n",
       "ta_1(t) - theta_2(t))*--(theta_1(t))*--(theta_2(t)) + l_p *|--(theta_1(t))| |\n",
       "                      dt             dt                    \\dt            / /\n",
       "-----------------------------------------------------------------------------\n",
       "           2                                                                 "
      ]
     },
     "execution_count": 25,
     "metadata": {},
     "output_type": "execute_result"
    }
   ],
   "source": [
    "T2 = 1//2*m2*dot( v2, v2 ) + 1//2*Ig2*diff(θ2,t)^2 |> simplify"
   ]
  },
  {
   "cell_type": "code",
   "execution_count": 26,
   "id": "91f7a178-e8ee-4716-b1a5-b520fb9c3096",
   "metadata": {},
   "outputs": [
    {
     "data": {
      "text/latex": [
       "$\\frac{I_{G1} \\left(\\frac{d}{d t} \\theta_{2}{\\left(t \\right)}\\right)^{2}}{2} + \\frac{m_{2} \\left(l_{2}^{2} \\left(\\frac{d}{d t} \\theta_{2}{\\left(t \\right)}\\right)^{2} + 2 l_{2} l_{p} \\cos{\\left(\\phi + \\theta_{1}{\\left(t \\right)} - \\theta_{2}{\\left(t \\right)} \\right)} \\frac{d}{d t} \\theta_{1}{\\left(t \\right)} \\frac{d}{d t} \\theta_{2}{\\left(t \\right)} + l_{p}^{2} \\left(\\frac{d}{d t} \\theta_{1}{\\left(t \\right)}\\right)^{2}\\right)}{2} + \\frac{\\left(I_{G1} + l_{1}^{2} m_{1}\\right) \\left(\\frac{d}{d t} \\theta_{1}{\\left(t \\right)}\\right)^{2}}{2}$"
      ],
      "text/plain": [
       "                     2       /                     2                          \n",
       "     /d             \\        |   2 /d             \\                           \n",
       "I_G1*|--(theta_2(t))|    m_2*|l_2 *|--(theta_2(t))|  + 2*l_2*l_p*cos(phi + the\n",
       "     \\dt            /        \\     \\dt            /                           \n",
       "---------------------- + -----------------------------------------------------\n",
       "          2                                                                   \n",
       "\n",
       "                                                                           2\\ \n",
       "                      d              d                   2 /d             \\ | \n",
       "ta_1(t) - theta_2(t))*--(theta_1(t))*--(theta_2(t)) + l_p *|--(theta_1(t))| | \n",
       "                      dt             dt                    \\dt            / / \n",
       "----------------------------------------------------------------------------- \n",
       "           2                                                                  \n",
       "\n",
       "                                    2\n",
       "  /          2    \\ /d             \\ \n",
       "  \\I_G1 + l_1 *m_1/*|--(theta_1(t))| \n",
       "                    \\dt            / \n",
       "+ -----------------------------------\n",
       "                   2                 "
      ]
     },
     "execution_count": 26,
     "metadata": {},
     "output_type": "execute_result"
    }
   ],
   "source": [
    "T = T1 + T2 "
   ]
  },
  {
   "cell_type": "markdown",
   "id": "0aaef428-5114-43c6-a604-9ba5a5f8388b",
   "metadata": {},
   "source": [
    "### The potential energy $V$"
   ]
  },
  {
   "cell_type": "code",
   "execution_count": 27,
   "id": "275345e4-c269-48b5-b8aa-0e849c42d893",
   "metadata": {},
   "outputs": [
    {
     "data": {
      "text/latex": [
       "$- g l_{1} m_{1} \\cos{\\left(\\theta_{1}{\\left(t \\right)} \\right)}$"
      ],
      "text/plain": [
       "-g*l_1*m_1*cos(theta_1(t))"
      ]
     },
     "execution_count": 27,
     "metadata": {},
     "output_type": "execute_result"
    }
   ],
   "source": [
    "V1 = m1*g*dot(r1,jhat)"
   ]
  },
  {
   "cell_type": "code",
   "execution_count": 28,
   "id": "6e30fc58-96a2-42d7-8188-5d6ac05c23ab",
   "metadata": {},
   "outputs": [
    {
     "data": {
      "text/latex": [
       "$g m_{2} \\left(- l_{2} \\cos{\\left(\\theta_{2}{\\left(t \\right)} \\right)} - l_{p} \\cos{\\left(\\phi + \\theta_{1}{\\left(t \\right)} \\right)}\\right)$"
      ],
      "text/plain": [
       "g*m_2*(-l_2*cos(theta_2(t)) - l_p*cos(phi + theta_1(t)))"
      ]
     },
     "execution_count": 28,
     "metadata": {},
     "output_type": "execute_result"
    }
   ],
   "source": [
    "V2 = m2*g*dot(r2, jhat)"
   ]
  },
  {
   "cell_type": "code",
   "execution_count": 29,
   "id": "7012a123-e941-48f9-b7f8-fa1b372e78de",
   "metadata": {},
   "outputs": [
    {
     "data": {
      "text/latex": [
       "$- g l_{1} m_{1} \\cos{\\left(\\theta_{1}{\\left(t \\right)} \\right)} + g m_{2} \\left(- l_{2} \\cos{\\left(\\theta_{2}{\\left(t \\right)} \\right)} - l_{p} \\cos{\\left(\\phi + \\theta_{1}{\\left(t \\right)} \\right)}\\right)$"
      ],
      "text/plain": [
       "-g*l_1*m_1*cos(theta_1(t)) + g*m_2*(-l_2*cos(theta_2(t)) - l_p*cos(phi + theta\n",
       "_1(t)))"
      ]
     },
     "execution_count": 29,
     "metadata": {},
     "output_type": "execute_result"
    }
   ],
   "source": [
    "V = V1 + V2 "
   ]
  },
  {
   "cell_type": "markdown",
   "id": "f5e4ba6a-486f-4141-8e96-54800a87f24b",
   "metadata": {},
   "source": [
    "## Lagrange's equations\n",
    "\n",
    "First, we build the Lagrangian $L = T-V$, and then use it in\n",
    "$$ \\frac{d}{dt}\\left( \\frac{\\partial L}{\\partial \\dot{q}_k} \\right) - \\frac{\\partial L}{\\partial q_k} = 0, \\quad k = 1,\\,2$$\n",
    "\n"
   ]
  },
  {
   "cell_type": "code",
   "execution_count": 31,
   "id": "7d6e4581-2376-4556-af86-bb2f8e4a411d",
   "metadata": {},
   "outputs": [
    {
     "data": {
      "text/latex": [
       "$\\frac{I_{G1} \\left(\\frac{d}{d t} \\theta_{2}{\\left(t \\right)}\\right)^{2}}{2} + g l_{1} m_{1} \\cos{\\left(\\theta_{1}{\\left(t \\right)} \\right)} + g m_{2} \\left(l_{2} \\cos{\\left(\\theta_{2}{\\left(t \\right)} \\right)} + l_{p} \\cos{\\left(\\phi + \\theta_{1}{\\left(t \\right)} \\right)}\\right) + \\frac{m_{2} \\left(l_{2}^{2} \\left(\\frac{d}{d t} \\theta_{2}{\\left(t \\right)}\\right)^{2} + 2 l_{2} l_{p} \\cos{\\left(\\phi + \\theta_{1}{\\left(t \\right)} - \\theta_{2}{\\left(t \\right)} \\right)} \\frac{d}{d t} \\theta_{1}{\\left(t \\right)} \\frac{d}{d t} \\theta_{2}{\\left(t \\right)} + l_{p}^{2} \\left(\\frac{d}{d t} \\theta_{1}{\\left(t \\right)}\\right)^{2}\\right)}{2} + \\frac{\\left(I_{G1} + l_{1}^{2} m_{1}\\right) \\left(\\frac{d}{d t} \\theta_{1}{\\left(t \\right)}\\right)^{2}}{2}$"
      ],
      "text/plain": [
       "                     2                                                        \n",
       "     /d             \\                                                         \n",
       "I_G1*|--(theta_2(t))|                                                         \n",
       "     \\dt            /                                                         \n",
       "---------------------- + g*l_1*m_1*cos(theta_1(t)) + g*m_2*(l_2*cos(theta_2(t)\n",
       "          2                                                                   \n",
       "\n",
       "                                     /                     2                  \n",
       "                                     |   2 /d             \\                   \n",
       "                                 m_2*|l_2 *|--(theta_2(t))|  + 2*l_2*l_p*cos(p\n",
       "                                     \\     \\dt            /                   \n",
       ") + l_p*cos(phi + theta_1(t))) + ---------------------------------------------\n",
       "                                                                              \n",
       "\n",
       "                                                                              \n",
       "                              d              d                   2 /d         \n",
       "hi + theta_1(t) - theta_2(t))*--(theta_1(t))*--(theta_2(t)) + l_p *|--(theta_1\n",
       "                              dt             dt                    \\dt        \n",
       "------------------------------------------------------------------------------\n",
       "                   2                                                          \n",
       "\n",
       "     2\\                                     2\n",
       "    \\ |   /          2    \\ /d             \\ \n",
       "(t))| |   \\I_G1 + l_1 *m_1/*|--(theta_1(t))| \n",
       "    / /                     \\dt            / \n",
       "------- + -----------------------------------\n",
       "                           2                 "
      ]
     },
     "execution_count": 31,
     "metadata": {},
     "output_type": "execute_result"
    }
   ],
   "source": [
    "L = T-V |> simplify"
   ]
  },
  {
   "cell_type": "code",
   "execution_count": 34,
   "id": "59a9e9c0-5075-4e0f-bc8d-f803ee8a1e5d",
   "metadata": {},
   "outputs": [
    {
     "data": {
      "text/latex": [
       "$\\left[ \\begin{array}{r}I_{G1} \\frac{d^{2}}{d t^{2}} \\theta_{1}{\\left(t \\right)} + g l_{1} m_{1} \\sin{\\left(\\theta_{1}{\\left(t \\right)} \\right)} + g l_{p} m_{2} \\sin{\\left(\\phi + \\theta_{1}{\\left(t \\right)} \\right)} + l_{1}^{2} m_{1} \\frac{d^{2}}{d t^{2}} \\theta_{1}{\\left(t \\right)} + l_{2} l_{p} m_{2} \\sin{\\left(\\phi + \\theta_{1}{\\left(t \\right)} - \\theta_{2}{\\left(t \\right)} \\right)} \\left(\\frac{d}{d t} \\theta_{2}{\\left(t \\right)}\\right)^{2} + l_{2} l_{p} m_{2} \\cos{\\left(\\phi + \\theta_{1}{\\left(t \\right)} - \\theta_{2}{\\left(t \\right)} \\right)} \\frac{d^{2}}{d t^{2}} \\theta_{2}{\\left(t \\right)} + l_{p}^{2} m_{2} \\frac{d^{2}}{d t^{2}} \\theta_{1}{\\left(t \\right)}\\\\I_{G1} \\frac{d^{2}}{d t^{2}} \\theta_{2}{\\left(t \\right)} + g l_{2} m_{2} \\sin{\\left(\\theta_{2}{\\left(t \\right)} \\right)} + l_{2}^{2} m_{2} \\frac{d^{2}}{d t^{2}} \\theta_{2}{\\left(t \\right)} - l_{2} l_{p} m_{2} \\sin{\\left(\\phi + \\theta_{1}{\\left(t \\right)} - \\theta_{2}{\\left(t \\right)} \\right)} \\left(\\frac{d}{d t} \\theta_{1}{\\left(t \\right)}\\right)^{2} + l_{2} l_{p} m_{2} \\cos{\\left(\\phi + \\theta_{1}{\\left(t \\right)} - \\theta_{2}{\\left(t \\right)} \\right)} \\frac{d^{2}}{d t^{2}} \\theta_{1}{\\left(t \\right)}\\end{array} \\right]$\n"
      ],
      "text/plain": [
       "2-element Vector{Sym}:\n",
       " I_G1*Derivative(theta_1(t), (t, 2)) + g*l_1*m_1*sin(theta_1(t)) + g*l_p*m_2*sin(phi + theta_1(t)) + l_1^2*m_1*Derivative(theta_1(t), (t, 2)) + l_2*l_p*m_2*sin(phi + theta_1(t) - theta_2(t))*Derivative(theta_2(t), t)^2 + l_2*l_p*m_2*cos(phi + theta_1(t) - theta_2(t))*Derivative(theta_2(t), (t, 2)) + l_p^2*m_2*Derivative(theta_1(t), (t, 2))\n",
       "                                                                              I_G1*Derivative(theta_2(t), (t, 2)) + g*l_2*m_2*sin(theta_2(t)) + l_2^2*m_2*Derivative(theta_2(t), (t, 2)) - l_2*l_p*m_2*sin(phi + theta_1(t) - theta_2(t))*Derivative(theta_1(t), t)^2 + l_2*l_p*m_2*cos(phi + theta_1(t) - theta_2(t))*Derivative(theta_1(t), (t, 2))"
      ]
     },
     "execution_count": 34,
     "metadata": {},
     "output_type": "execute_result"
    }
   ],
   "source": [
    "lag = [ diff(L, diff(q,t), t ) - diff( L, q ) |> simplify for q in [θ1, θ2] ]"
   ]
  },
  {
   "cell_type": "markdown",
   "id": "eec9ef21-1e96-47b6-87f7-84bd17aa8a15",
   "metadata": {},
   "source": [
    "## First order form\n",
    "Let's work to rearrange this pair of coupled 2nd order equations to state-space (first order form) so we can use standard initial value ordinary differential equation solvers.\n",
    "Let's pick the states\n",
    "$$ z = [ \\theta_1,\\, \\theta_2,\\, \\dot{\\theta}_1,\\, \\dot{\\theta}_2]^T $$\n"
   ]
  },
  {
   "cell_type": "code",
   "execution_count": 40,
   "id": "b464ee29-cf6c-45c4-bbfb-9eda6f1574f2",
   "metadata": {},
   "outputs": [
    {
     "data": {
      "text/plain": [
       "Dict{Any, Any} with 2 entries:\n",
       "  Derivative(theta_2(t), (t, 2)) => -I_G1*g*l_2*m_2*sin(theta_2(t))/(I_G1^2 + I…\n",
       "  Derivative(theta_1(t), (t, 2)) => -I_G1*g*l_1*m_1*sin(theta_1(t))/(I_G1^2 + I…"
      ]
     },
     "execution_count": 40,
     "metadata": {},
     "output_type": "execute_result"
    }
   ],
   "source": [
    "sol = solve( lag, [diff(θ1,t,t), diff(θ2, t, t)])"
   ]
  },
  {
   "cell_type": "code",
   "execution_count": null,
   "id": "dbec57c6-37c0-4709-bd7e-4abb09eeb7b2",
   "metadata": {},
   "outputs": [],
   "source": [
    "# TODO: complete and output matlab/octave code"
   ]
  },
  {
   "cell_type": "code",
   "execution_count": null,
   "id": "b5c9759d-c229-4543-bcdb-0003706f5aa1",
   "metadata": {},
   "outputs": [],
   "source": []
  }
 ],
 "metadata": {
  "kernelspec": {
   "display_name": "Julia 1.7.1",
   "language": "julia",
   "name": "julia-1.7"
  },
  "language_info": {
   "file_extension": ".jl",
   "mimetype": "application/julia",
   "name": "julia",
   "version": "1.7.1"
  }
 },
 "nbformat": 4,
 "nbformat_minor": 5
}
